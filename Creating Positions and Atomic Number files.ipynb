{
 "cells": [
  {
   "cell_type": "code",
   "execution_count": 3,
   "id": "a5d2f95e",
   "metadata": {},
   "outputs": [],
   "source": [
    "import numpy as np\n",
    "from ase.io import read\n",
    "\n",
    "# Path template for xyz files\n",
    "path_template = 'Z:\\\\electrocyclic\\\\open\\\\open_g2m05_{:04d}\\\\open_g2m05_{:04d}.xyz'\n",
    "num_files = 1000\n",
    "\n",
    "\n",
    "def getposandnum(path_template, num_files)\n",
    "    #Assign list variables\n",
    "    positions_list = []\n",
    "    atomic_numbers_list = []\n",
    "    for i in range(num_files):\n",
    "        filename = path_template.format(i,i)\n",
    "        atoms = read(filename)  # Read the xyz file\n",
    "    \n",
    "        # Extract atom positions and atomic numbers\n",
    "        positions = atoms.get_positions()\n",
    "        atomic_numbers = atoms.get_atomic_numbers()\n",
    "        \n",
    "        # Append to lists\n",
    "        positions_list.append(positions)\n",
    "        atomic_numbers_list.append(atomic_numbers)\n",
    "\n",
    "        # Convert lists to numpy arrays\n",
    "        positions_array = np.array(positions_list)\n",
    "        atomic_numbers_array = np.array(atomic_numbers_list)\n",
    "\n",
    "    # Save to numpy files\n",
    "    np.save('positions.npy', positions_array)\n",
    "    np.save('atomic_numbers.npy', atomic_numbers_array)\n"
   ]
  }
 ],
 "metadata": {
  "kernelspec": {
   "display_name": "Python 3 (ipykernel)",
   "language": "python",
   "name": "python3"
  },
  "language_info": {
   "codemirror_mode": {
    "name": "ipython",
    "version": 3
   },
   "file_extension": ".py",
   "mimetype": "text/x-python",
   "name": "python",
   "nbconvert_exporter": "python",
   "pygments_lexer": "ipython3",
   "version": "3.11.5"
  }
 },
 "nbformat": 4,
 "nbformat_minor": 5
}
