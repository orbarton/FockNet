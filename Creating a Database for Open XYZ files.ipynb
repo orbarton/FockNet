{
 "cells": [
  {
   "cell_type": "code",
   "execution_count": 3,
   "id": "a5d2f95e",
   "metadata": {},
   "outputs": [],
   "source": [
    "import numpy as np\n",
    "from ase.io import read\n",
    "\n",
    "# Path template for xyz files\n",
    "path_template = 'Z:\\\\electrocyclic\\\\open\\\\open_g2m05_{:04d}\\\\open_g2m05_{:04d}.xyz'\n",
    "num_files = 1000\n",
    "\n",
    "# Initialize lists to store data\n",
    "positions_list = []\n",
    "atomic_numbers_list = []\n",
    "\n",
    "# Iterate over each xyz file\n",
    "for i in range(num_files):\n",
    "    filename = path_template.format(i,i)\n",
    "    atoms = read(filename)  # Read the xyz file\n",
    "    \n",
    "    # Extract atom positions and atomic numbers\n",
    "    positions = atoms.get_positions()\n",
    "    atomic_numbers = atoms.get_atomic_numbers()\n",
    "    \n",
    "    # Append to lists\n",
    "    positions_list.append(positions)\n",
    "    atomic_numbers_list.append(atomic_numbers)\n",
    "\n",
    "# Convert lists to numpy arrays\n",
    "positions_array = np.array(positions_list)\n",
    "atomic_numbers_array = np.array(atomic_numbers_list)\n",
    "\n",
    "# Save to npy files\n",
    "np.save('positions.npy', positions_array)\n",
    "np.save('atomic_numbers.npy', atomic_numbers_array)\n"
   ]
  },
  {
   "cell_type": "code",
   "execution_count": 7,
   "id": "32e4cc27",
   "metadata": {},
   "outputs": [
    {
     "data": {
      "text/plain": [
       "array([[-2.00000000e-07,  1.00000000e-08,  9.79567120e-01],\n",
       "       [ 1.06394980e-01,  1.25143584e+00,  4.12216340e-01],\n",
       "       [ 1.38621050e-01,  1.63906707e+00, -8.83222640e-01],\n",
       "       [-1.38621070e-01, -1.63906705e+00, -8.83222670e-01],\n",
       "       [-1.06395000e-01, -1.25143584e+00,  4.12216310e-01],\n",
       "       [ 1.40000000e-07, -4.00000000e-08,  1.97459065e+00],\n",
       "       [ 1.72522750e-01,  2.02231093e+00,  1.16788128e+00],\n",
       "       [ 2.28441480e-01,  2.69485781e+00, -1.08695179e+00],\n",
       "       [ 8.13444800e-02,  9.73788830e-01, -1.72292100e+00],\n",
       "       [-8.13448200e-02, -9.73788780e-01, -1.72292103e+00],\n",
       "       [-2.28441320e-01, -2.69485781e+00, -1.08695183e+00],\n",
       "       [-1.72522470e-01, -2.02231098e+00,  1.16788124e+00]])"
      ]
     },
     "execution_count": 7,
     "metadata": {},
     "output_type": "execute_result"
    }
   ],
   "source": [
    "positions_array[0]"
   ]
  },
  {
   "cell_type": "code",
   "execution_count": 6,
   "id": "47baba9c",
   "metadata": {},
   "outputs": [
    {
     "data": {
      "text/plain": [
       "array([7, 6, 6, 6, 6, 1, 1, 1, 1, 1, 1, 1])"
      ]
     },
     "execution_count": 6,
     "metadata": {},
     "output_type": "execute_result"
    }
   ],
   "source": [
    "atomic_numbers_array[0]"
   ]
  },
  {
   "cell_type": "code",
   "execution_count": 4,
   "id": "ec3420f5",
   "metadata": {},
   "outputs": [],
   "source": [
    "import numpy as np\n",
    "from ase import Atoms\n",
    "from schnetpack.data import ASEAtomsData\n",
    "\n",
    "positions = np.load('positions.npy')\n",
    "atomic_numbers = np.load('atomic_numbers.npy')\n",
    "fock_matrices = np.load('fockmatrices_open.npy')\n",
    "property_list = [{'fock_matrix': fock_matrix} for fock_matrix in fock_matrices]\n",
    "\n",
    "# Create list of Atoms objects\n",
    "atoms_list = []\n",
    "for pos, nums in zip(positions, atomic_numbers):\n",
    "    atoms = Atoms(positions=pos, numbers=nums)\n",
    "    atoms_list.append(atoms)\n",
    "\n",
    "# Create ASEAtomsData database\n",
    "ase_db_path = 'my_test_new_hope.db'\n",
    "new_dataset = ASEAtomsData.create(\n",
    "    ase_db_path,\n",
    "    distance_unit='Ang',\n",
    "    property_unit_dict={'fock_matrix': 'unknown'}\n",
    ")\n",
    "\n",
    "# Add systems to the database\n",
    "new_dataset.add_systems(property_list, atoms_list)\n"
   ]
  },
  {
   "cell_type": "code",
   "execution_count": 5,
   "id": "dc825dfe",
   "metadata": {},
   "outputs": [],
   "source": [
    "import numpy as np\n",
    "import ase\n",
    "from ase.io import read \n",
    "from ase.db import connect\n",
    "import json\n",
    "import matplotlib.pylab as plt\n",
    "import os\n",
    "import torch\n",
    "import schnetpack as spk\n",
    "import schnetpack.transform as trn\n",
    "from torch.optim import Adam\n",
    "from schnetpack.representation import SchNet\n",
    "from schnetpack.atomistic import Atomwise, PairwiseDistances\n",
    "from schnetpack.nn import GaussianRBF, CosineCutoff\n",
    "from schnetpack.model import NeuralNetworkPotential\n",
    "import torchmetrics"
   ]
  },
  {
   "cell_type": "code",
   "execution_count": 6,
   "id": "211a94b9",
   "metadata": {},
   "outputs": [
    {
     "name": "stdout",
     "output_type": "stream",
     "text": [
      "Number of reference calculations: 1000\n",
      "Available properties:\n",
      "- fock_matrix\n",
      "\n",
      "Properties of molecule with id 0:\n",
      "- _idx : torch.Size([1])\n",
      "- fock_matrix : torch.Size([32, 32])\n",
      "- _n_atoms : torch.Size([1])\n",
      "- _atomic_numbers : torch.Size([12])\n",
      "- _positions : torch.Size([12, 3])\n",
      "- _cell : torch.Size([1, 3, 3])\n",
      "- _pbc : torch.Size([3])\n"
     ]
    }
   ],
   "source": [
    "print('Number of reference calculations:', len(new_dataset))\n",
    "print('Available properties:')\n",
    "\n",
    "for p in new_dataset.available_properties:\n",
    "    print('-', p)\n",
    "print()\n",
    "\n",
    "example = new_dataset[0]\n",
    "print('Properties of molecule with id 0:')\n",
    "\n",
    "for k, v in example.items():\n",
    "    print('-', k, ':', v.shape)"
   ]
  }
 ],
 "metadata": {
  "kernelspec": {
   "display_name": "Python 3 (ipykernel)",
   "language": "python",
   "name": "python3"
  },
  "language_info": {
   "codemirror_mode": {
    "name": "ipython",
    "version": 3
   },
   "file_extension": ".py",
   "mimetype": "text/x-python",
   "name": "python",
   "nbconvert_exporter": "python",
   "pygments_lexer": "ipython3",
   "version": "3.11.5"
  }
 },
 "nbformat": 4,
 "nbformat_minor": 5
}
